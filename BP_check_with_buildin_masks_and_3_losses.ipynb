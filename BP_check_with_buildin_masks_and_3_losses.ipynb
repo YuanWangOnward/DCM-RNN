{
 "cells": [
  {
   "cell_type": "markdown",
   "metadata": {},
   "source": [
    "### This script is used to check BP for DCM-RNN\n",
    "- Keep the majority parameters \"correct\".\n",
    "- Calculate the loss as a function of remaining parameter.\n",
    "- Check whether BP can find the targeted optimal point."
   ]
  },
  {
   "cell_type": "code",
   "execution_count": 455,
   "metadata": {
    "collapsed": true
   },
   "outputs": [],
   "source": [
    "import importlib\n",
    "import numpy as np\n",
    "import scipy as sp\n",
    "import tensorflow as tf\n",
    "%matplotlib inline\n",
    "import matplotlib.pyplot as plt\n",
    "import matplotlib.cm as cm\n",
    "import matplotlib.mlab as mlab\n",
    "from mpl_toolkits.mplot3d import axes3d\n",
    "import math as mth\n",
    "from tensorflow.python.framework import ops\n",
    "from IPython.display import clear_output\n",
    "from scipy.interpolate import interp1d\n",
    "import os,shutil\n",
    "import pandas as pd\n",
    "from tensorflow.python.client import timeline"
   ]
  },
  {
   "cell_type": "code",
   "execution_count": 556,
   "metadata": {
    "collapsed": false,
    "scrolled": true
   },
   "outputs": [
    {
     "data": {
      "text/plain": [
       "<module 'population' from '/Users/yuanwang/Google_Drive/projects/Gits/DCM-RNN/population.py'>"
      ]
     },
     "execution_count": 556,
     "metadata": {},
     "output_type": "execute_result"
    }
   ],
   "source": [
    "import CBI\n",
    "import population\n",
    "importlib.reload(CBI)\n",
    "importlib.reload(population)"
   ]
  },
  {
   "cell_type": "code",
   "execution_count": 557,
   "metadata": {
    "collapsed": true
   },
   "outputs": [],
   "source": [
    "global_settings=type('container', (object,), {})()\n",
    "global_settings.t_delta=0.25\n",
    "global_settings.n_stimuli=1\n",
    "global_settings.n_recurrent_step=12\n",
    "global_settings.learning_rate=0.00001"
   ]
  },
  {
   "cell_type": "markdown",
   "metadata": {},
   "source": [
    "###  Create a subject"
   ]
  },
  {
   "cell_type": "code",
   "execution_count": 580,
   "metadata": {
    "collapsed": false,
    "scrolled": false
   },
   "outputs": [
    {
     "name": "stdout",
     "output_type": "stream",
     "text": [
      "Wxx\n"
     ]
    },
    {
     "data": {
      "text/html": [
       "<div>\n",
       "<table border=\"1\" class=\"dataframe\">\n",
       "  <thead>\n",
       "    <tr style=\"text-align: right;\">\n",
       "      <th></th>\n",
       "      <th>From_r0</th>\n",
       "      <th>From_r1</th>\n",
       "      <th>From_r2</th>\n",
       "    </tr>\n",
       "  </thead>\n",
       "  <tbody>\n",
       "    <tr>\n",
       "      <th>To_r0</th>\n",
       "      <td>0.75</td>\n",
       "      <td>0.00</td>\n",
       "      <td>0.00</td>\n",
       "    </tr>\n",
       "    <tr>\n",
       "      <th>To_r1</th>\n",
       "      <td>0.20</td>\n",
       "      <td>0.75</td>\n",
       "      <td>0.10</td>\n",
       "    </tr>\n",
       "    <tr>\n",
       "      <th>To_r2</th>\n",
       "      <td>0.10</td>\n",
       "      <td>0.20</td>\n",
       "      <td>0.75</td>\n",
       "    </tr>\n",
       "  </tbody>\n",
       "</table>\n",
       "</div>"
      ],
      "text/plain": [
       "       From_r0  From_r1  From_r2\n",
       "To_r0     0.75     0.00     0.00\n",
       "To_r1     0.20     0.75     0.10\n",
       "To_r2     0.10     0.20     0.75"
      ]
     },
     "metadata": {},
     "output_type": "display_data"
    },
    {
     "name": "stdout",
     "output_type": "stream",
     "text": [
      "Wxxu_s0\n"
     ]
    },
    {
     "data": {
      "text/html": [
       "<div>\n",
       "<table border=\"1\" class=\"dataframe\">\n",
       "  <thead>\n",
       "    <tr style=\"text-align: right;\">\n",
       "      <th></th>\n",
       "      <th>From_r0</th>\n",
       "      <th>From_r1</th>\n",
       "      <th>From_r2</th>\n",
       "    </tr>\n",
       "  </thead>\n",
       "  <tbody>\n",
       "    <tr>\n",
       "      <th>To_r0</th>\n",
       "      <td>0.0</td>\n",
       "      <td>0.0</td>\n",
       "      <td>0.0</td>\n",
       "    </tr>\n",
       "    <tr>\n",
       "      <th>To_r1</th>\n",
       "      <td>0.0</td>\n",
       "      <td>0.0</td>\n",
       "      <td>0.0</td>\n",
       "    </tr>\n",
       "    <tr>\n",
       "      <th>To_r2</th>\n",
       "      <td>0.0</td>\n",
       "      <td>0.0</td>\n",
       "      <td>-0.1</td>\n",
       "    </tr>\n",
       "  </tbody>\n",
       "</table>\n",
       "</div>"
      ],
      "text/plain": [
       "       From_r0  From_r1  From_r2\n",
       "To_r0      0.0      0.0      0.0\n",
       "To_r1      0.0      0.0      0.0\n",
       "To_r2      0.0      0.0     -0.1"
      ]
     },
     "metadata": {},
     "output_type": "display_data"
    },
    {
     "name": "stdout",
     "output_type": "stream",
     "text": [
      "Wxu\n"
     ]
    },
    {
     "data": {
      "text/html": [
       "<div>\n",
       "<table border=\"1\" class=\"dataframe\">\n",
       "  <thead>\n",
       "    <tr style=\"text-align: right;\">\n",
       "      <th></th>\n",
       "      <th>stimuli_0</th>\n",
       "    </tr>\n",
       "  </thead>\n",
       "  <tbody>\n",
       "    <tr>\n",
       "      <th>To_r0</th>\n",
       "      <td>0.1</td>\n",
       "    </tr>\n",
       "    <tr>\n",
       "      <th>To_r1</th>\n",
       "      <td>0.0</td>\n",
       "    </tr>\n",
       "    <tr>\n",
       "      <th>To_r2</th>\n",
       "      <td>0.0</td>\n",
       "    </tr>\n",
       "  </tbody>\n",
       "</table>\n",
       "</div>"
      ],
      "text/plain": [
       "       stimuli_0\n",
       "To_r0        0.1\n",
       "To_r1        0.0\n",
       "To_r2        0.0"
      ]
     },
     "metadata": {},
     "output_type": "display_data"
    },
    {
     "name": "stdout",
     "output_type": "stream",
     "text": [
      "hemodynamic_parameters\n"
     ]
    },
    {
     "data": {
      "text/html": [
       "<div>\n",
       "<table border=\"1\" class=\"dataframe\">\n",
       "  <thead>\n",
       "    <tr style=\"text-align: right;\">\n",
       "      <th></th>\n",
       "      <th>alpha</th>\n",
       "      <th>E0</th>\n",
       "      <th>k</th>\n",
       "      <th>gamma</th>\n",
       "      <th>tao</th>\n",
       "      <th>epsilon</th>\n",
       "      <th>V0</th>\n",
       "      <th>TE</th>\n",
       "      <th>r0</th>\n",
       "      <th>theta0</th>\n",
       "    </tr>\n",
       "  </thead>\n",
       "  <tbody>\n",
       "    <tr>\n",
       "      <th>region_0</th>\n",
       "      <td>0.32</td>\n",
       "      <td>0.34</td>\n",
       "      <td>0.65</td>\n",
       "      <td>0.41</td>\n",
       "      <td>0.98</td>\n",
       "      <td>0.4</td>\n",
       "      <td>100.0</td>\n",
       "      <td>0.03</td>\n",
       "      <td>25</td>\n",
       "      <td>40.3</td>\n",
       "    </tr>\n",
       "    <tr>\n",
       "      <th>region_1</th>\n",
       "      <td>0.32</td>\n",
       "      <td>0.34</td>\n",
       "      <td>0.65</td>\n",
       "      <td>0.41</td>\n",
       "      <td>0.98</td>\n",
       "      <td>0.4</td>\n",
       "      <td>100.0</td>\n",
       "      <td>0.03</td>\n",
       "      <td>25</td>\n",
       "      <td>40.3</td>\n",
       "    </tr>\n",
       "    <tr>\n",
       "      <th>region_2</th>\n",
       "      <td>0.32</td>\n",
       "      <td>0.34</td>\n",
       "      <td>0.65</td>\n",
       "      <td>0.41</td>\n",
       "      <td>0.98</td>\n",
       "      <td>0.4</td>\n",
       "      <td>100.0</td>\n",
       "      <td>0.03</td>\n",
       "      <td>25</td>\n",
       "      <td>40.3</td>\n",
       "    </tr>\n",
       "  </tbody>\n",
       "</table>\n",
       "</div>"
      ],
      "text/plain": [
       "          alpha    E0     k  gamma   tao  epsilon     V0    TE  r0  theta0\n",
       "region_0   0.32  0.34  0.65   0.41  0.98      0.4  100.0  0.03  25    40.3\n",
       "region_1   0.32  0.34  0.65   0.41  0.98      0.4  100.0  0.03  25    40.3\n",
       "region_2   0.32  0.34  0.65   0.41  0.98      0.4  100.0  0.03  25    40.3"
      ]
     },
     "metadata": {},
     "output_type": "display_data"
    }
   ],
   "source": [
    "flags=type('container', (object,), {})()\n",
    "flags.random_hemodynamic_parameter = False\n",
    "flags.random_h_state_initial = True\n",
    "flags.random_x_state_initial = True\n",
    "\n",
    "s=population.get_a_subject(flags=flags)\n",
    "m=CBI.configure_a_scanner(t_delta=global_settings.t_delta,n_stimuli=global_settings.n_stimuli)\n",
    "u,y,x,h=m.quick_scan(s,return_x=True,return_h=True)\n",
    "parameter_true=s.show_all_variable_value(True)"
   ]
  },
  {
   "cell_type": "code",
   "execution_count": null,
   "metadata": {
    "collapsed": true
   },
   "outputs": [],
   "source": []
  },
  {
   "cell_type": "code",
   "execution_count": 581,
   "metadata": {
    "collapsed": false,
    "scrolled": true
   },
   "outputs": [
    {
     "data": {
      "text/plain": [
       "[<matplotlib.lines.Line2D at 0x16d8fdfd0>,\n",
       " <matplotlib.lines.Line2D at 0x16d8c91d0>,\n",
       " <matplotlib.lines.Line2D at 0x16d8c9470>]"
      ]
     },
     "execution_count": 581,
     "metadata": {},
     "output_type": "execute_result"
    },
    {
     "data": {
      "image/png": "[encoded data removed]",
      "text/plain": [
       "<matplotlib.figure.Figure at 0x125383208>"
      ]
     },
     "metadata": {},
     "output_type": "display_data"
    }
   ],
   "source": [
    "h_impulse_response = m.h_impulse_response(s)\n",
    "plt.plot(np.arange(int(h_impulse_response.shape[-1]))*m.t_delta,h_impulse_response[:,0,:].transpose())"
   ]
  },
  {
   "cell_type": "code",
   "execution_count": 582,
   "metadata": {
    "collapsed": false,
    "scrolled": true
   },
   "outputs": [
    {
     "data": {
      "text/html": [
       "<div>\n",
       "<table border=\"1\" class=\"dataframe\">\n",
       "  <thead>\n",
       "    <tr style=\"text-align: right;\">\n",
       "      <th></th>\n",
       "      <th>alpha</th>\n",
       "      <th>E0</th>\n",
       "      <th>k</th>\n",
       "      <th>gamma</th>\n",
       "      <th>tao</th>\n",
       "      <th>epsilon</th>\n",
       "      <th>V0</th>\n",
       "      <th>TE</th>\n",
       "      <th>r0</th>\n",
       "      <th>theta0</th>\n",
       "    </tr>\n",
       "  </thead>\n",
       "  <tbody>\n",
       "    <tr>\n",
       "      <th>region_0</th>\n",
       "      <td>0.32</td>\n",
       "      <td>0.34</td>\n",
       "      <td>0.65</td>\n",
       "      <td>0.41</td>\n",
       "      <td>0.98</td>\n",
       "      <td>0.4</td>\n",
       "      <td>100.0</td>\n",
       "      <td>0.03</td>\n",
       "      <td>25</td>\n",
       "      <td>40.3</td>\n",
       "    </tr>\n",
       "    <tr>\n",
       "      <th>region_1</th>\n",
       "      <td>0.32</td>\n",
       "      <td>0.34</td>\n",
       "      <td>0.65</td>\n",
       "      <td>0.41</td>\n",
       "      <td>0.98</td>\n",
       "      <td>0.4</td>\n",
       "      <td>100.0</td>\n",
       "      <td>0.03</td>\n",
       "      <td>25</td>\n",
       "      <td>40.3</td>\n",
       "    </tr>\n",
       "    <tr>\n",
       "      <th>region_2</th>\n",
       "      <td>0.32</td>\n",
       "      <td>0.34</td>\n",
       "      <td>0.65</td>\n",
       "      <td>0.41</td>\n",
       "      <td>0.98</td>\n",
       "      <td>0.4</td>\n",
       "      <td>100.0</td>\n",
       "      <td>0.03</td>\n",
       "      <td>25</td>\n",
       "      <td>40.3</td>\n",
       "    </tr>\n",
       "  </tbody>\n",
       "</table>\n",
       "</div>"
      ],
      "text/plain": [
       "          alpha    E0     k  gamma   tao  epsilon     V0    TE  r0  theta0\n",
       "region_0   0.32  0.34  0.65   0.41  0.98      0.4  100.0  0.03  25    40.3\n",
       "region_1   0.32  0.34  0.65   0.41  0.98      0.4  100.0  0.03  25    40.3\n",
       "region_2   0.32  0.34  0.65   0.41  0.98      0.4  100.0  0.03  25    40.3"
      ]
     },
     "execution_count": 582,
     "metadata": {},
     "output_type": "execute_result"
    }
   ],
   "source": [
    "s.hemodynamic_parameters"
   ]
  },
  {
   "cell_type": "code",
   "execution_count": 583,
   "metadata": {
    "collapsed": false
   },
   "outputs": [
    {
     "data": {
      "text/plain": [
       "<matplotlib.text.Text at 0x12d5dccf8>"
      ]
     },
     "execution_count": 583,
     "metadata": {},
     "output_type": "execute_result"
    },
    {
     "data": {
      "image/png": "[encoded data removed]",
      "text/plain": [
       "<matplotlib.figure.Figure at 0x16d8da438>"
      ]
     },
     "metadata": {},
     "output_type": "display_data"
    }
   ],
   "source": [
    "plt.subplot(211)\n",
    "plt.plot(np.arange(m.n_time_point)*m.t_delta,u.transpose())\n",
    "plt.xlabel('time (s)')\n",
    "plt.ylabel('stimuli')\n",
    "plt.subplot(212)\n",
    "plt.plot(np.arange(m.n_time_point)*m.t_delta,y[:,0,:].transpose())\n",
    "plt.xlabel('time (s)')\n",
    "plt.ylabel('fMRI signal')"
   ]
  },
  {
   "cell_type": "code",
   "execution_count": 584,
   "metadata": {
    "collapsed": false
   },
   "outputs": [
    {
     "data": {
      "text/plain": [
       "<matplotlib.text.Text at 0x13b4055c0>"
      ]
     },
     "execution_count": 584,
     "metadata": {},
     "output_type": "execute_result"
    },
    {
     "data": {
      "image/png": "[encoded data removed]",
      "text/plain": [
       "<matplotlib.figure.Figure at 0x16d8e47f0>"
      ]
     },
     "metadata": {},
     "output_type": "display_data"
    }
   ],
   "source": [
    "# plot it to check hemodynamic states to ensure they are in proper range\n",
    "plt.plot(np.arange(m.n_time_point)*m.t_delta,h[2,:,:].transpose())\n",
    "#plt.plot(np.arange(250,350),h[0,:,250:350].transpose())\n",
    "plt.xlabel('time (s)')\n",
    "plt.ylabel('fMRI signal')"
   ]
  },
  {
   "cell_type": "markdown",
   "metadata": {},
   "source": [
    "### Data preparation"
   ]
  },
  {
   "cell_type": "code",
   "execution_count": 585,
   "metadata": {
    "collapsed": false
   },
   "outputs": [
    {
     "data": {
      "text/plain": [
       "<module 'data_helper' from '/Users/yuanwang/Google_Drive/projects/Gits/DCM-RNN/data_helper.py'>"
      ]
     },
     "execution_count": 585,
     "metadata": {},
     "output_type": "execute_result"
    }
   ],
   "source": [
    "import data_helper\n",
    "importlib.reload(data_helper)"
   ]
  },
  {
   "cell_type": "code",
   "execution_count": 586,
   "metadata": {
    "collapsed": false,
    "scrolled": true
   },
   "outputs": [
    {
     "name": "stdout",
     "output_type": "stream",
     "text": [
      "u_list has 120 segments, each of size (1, 12)\n",
      "x_list has 120 segments, each of size (3, 12)\n",
      "y_list has 120 segments, each of size (3, 12)\n"
     ]
    }
   ],
   "source": [
    "# target u: [m.n_stimuli, n_recurrent_step]\n",
    "# target x: [m.n_region, n_recurrent_step]\n",
    "n_recurrent_step=global_settings.n_recurrent_step\n",
    "\n",
    "dh=data_helper.get_a_data_helper()\n",
    "dh.u=u[:]\n",
    "dh.x=x[:]\n",
    "dh.y=y[:]\n",
    "\n",
    "dh.u_list=dh.cut2shape(dh.u,[m.n_stimuli, n_recurrent_step],n_recurrence=n_recurrent_step)\n",
    "dh.x_list=dh.cut2shape(dh.x,[m.n_region, n_recurrent_step],n_recurrence=n_recurrent_step)\n",
    "dh.y_list=dh.cut2shape(dh.y,[m.n_region, n_recurrent_step],n_recurrence=n_recurrent_step)\n",
    "print('u_list has '+str(len(dh.u_list))+' segments, each of size '+str(dh.u_list[0].shape))\n",
    "print('x_list has '+str(len(dh.x_list))+' segments, each of size '+str(dh.x_list[0].shape))\n",
    "print('y_list has '+str(len(dh.x_list))+' segments, each of size '+str(dh.x_list[0].shape))"
   ]
  },
  {
   "cell_type": "markdown",
   "metadata": {},
   "source": [
    "### Build model"
   ]
  },
  {
   "cell_type": "code",
   "execution_count": 587,
   "metadata": {
    "collapsed": false,
    "scrolled": false
   },
   "outputs": [],
   "source": [
    "ops.reset_default_graph()\n",
    "import DCM_RNN\n",
    "importlib.reload(DCM_RNN)\n",
    "dr=DCM_RNN.DCM_RNN(m,n_recurrent_step=global_settings.n_recurrent_step,learning_rate=global_settings.learning_rate)\n",
    "# configure the model\n",
    "dr.hyperparameter_values[dr.variable_scope_name_x]['sparse']=0.8\n",
    "dr.hyperparameter_values[dr.variable_scope_name_h]['prior']=0.\n",
    "dr.hyperparameter_values[dr.variable_scope_name_h]['gradient']=0.\n",
    "util=DCM_RNN.utilities()"
   ]
  },
  {
   "cell_type": "code",
   "execution_count": 588,
   "metadata": {
    "collapsed": false
   },
   "outputs": [
    {
     "name": "stdout",
     "output_type": "stream",
     "text": [
      "build_a_model: variables created.\n",
      "build_a_model: layers created.\n",
      "build_a_model: losses added.\n",
      "build_a_model: finished.\n"
     ]
    },
    {
     "data": {
      "text/plain": [
       "{'rnn_cell_h/E0_r0:0': {'keyword': 'E0',\n",
       "  'mask_gradient': 0.0,\n",
       "  'mask_prior': 0.0,\n",
       "  'mask_sparse': 0.0,\n",
       "  'scope': 'rnn_cell_h',\n",
       "  'shape': TensorShape([])},\n",
       " 'rnn_cell_h/E0_r1:0': {'keyword': 'E0',\n",
       "  'mask_gradient': 0.0,\n",
       "  'mask_prior': 0.0,\n",
       "  'mask_sparse': 0.0,\n",
       "  'scope': 'rnn_cell_h',\n",
       "  'shape': TensorShape([])},\n",
       " 'rnn_cell_h/E0_r2:0': {'keyword': 'E0',\n",
       "  'mask_gradient': 0.0,\n",
       "  'mask_prior': 0.0,\n",
       "  'mask_sparse': 0.0,\n",
       "  'scope': 'rnn_cell_h',\n",
       "  'shape': TensorShape([])},\n",
       " 'rnn_cell_h/alpha_r0:0': {'keyword': 'alpha',\n",
       "  'mask_gradient': 0.0,\n",
       "  'mask_prior': 0.0,\n",
       "  'mask_sparse': 0.0,\n",
       "  'scope': 'rnn_cell_h',\n",
       "  'shape': TensorShape([])},\n",
       " 'rnn_cell_h/alpha_r1:0': {'keyword': 'alpha',\n",
       "  'mask_gradient': 0.0,\n",
       "  'mask_prior': 0.0,\n",
       "  'mask_sparse': 0.0,\n",
       "  'scope': 'rnn_cell_h',\n",
       "  'shape': TensorShape([])},\n",
       " 'rnn_cell_h/alpha_r2:0': {'keyword': 'alpha',\n",
       "  'mask_gradient': 0.0,\n",
       "  'mask_prior': 0.0,\n",
       "  'mask_sparse': 0.0,\n",
       "  'scope': 'rnn_cell_h',\n",
       "  'shape': TensorShape([])},\n",
       " 'rnn_cell_h/gamma_r0:0': {'keyword': 'gamma',\n",
       "  'mask_gradient': 0.0,\n",
       "  'mask_prior': 0.0,\n",
       "  'mask_sparse': 0.0,\n",
       "  'scope': 'rnn_cell_h',\n",
       "  'shape': TensorShape([])},\n",
       " 'rnn_cell_h/gamma_r1:0': {'keyword': 'gamma',\n",
       "  'mask_gradient': 0.0,\n",
       "  'mask_prior': 0.0,\n",
       "  'mask_sparse': 0.0,\n",
       "  'scope': 'rnn_cell_h',\n",
       "  'shape': TensorShape([])},\n",
       " 'rnn_cell_h/gamma_r2:0': {'keyword': 'gamma',\n",
       "  'mask_gradient': 0.0,\n",
       "  'mask_prior': 0.0,\n",
       "  'mask_sparse': 0.0,\n",
       "  'scope': 'rnn_cell_h',\n",
       "  'shape': TensorShape([])},\n",
       " 'rnn_cell_h/k_r0:0': {'keyword': 'k',\n",
       "  'mask_gradient': 0.0,\n",
       "  'mask_prior': 0.0,\n",
       "  'mask_sparse': 0.0,\n",
       "  'scope': 'rnn_cell_h',\n",
       "  'shape': TensorShape([])},\n",
       " 'rnn_cell_h/k_r1:0': {'keyword': 'k',\n",
       "  'mask_gradient': 0.0,\n",
       "  'mask_prior': 0.0,\n",
       "  'mask_sparse': 0.0,\n",
       "  'scope': 'rnn_cell_h',\n",
       "  'shape': TensorShape([])},\n",
       " 'rnn_cell_h/k_r2:0': {'keyword': 'k',\n",
       "  'mask_gradient': 0.0,\n",
       "  'mask_prior': 0.0,\n",
       "  'mask_sparse': 0.0,\n",
       "  'scope': 'rnn_cell_h',\n",
       "  'shape': TensorShape([])},\n",
       " 'rnn_cell_h/tao_r0:0': {'keyword': 'tao',\n",
       "  'mask_gradient': 0.0,\n",
       "  'mask_prior': 0.0,\n",
       "  'mask_sparse': 0.0,\n",
       "  'scope': 'rnn_cell_h',\n",
       "  'shape': TensorShape([])},\n",
       " 'rnn_cell_h/tao_r1:0': {'keyword': 'tao',\n",
       "  'mask_gradient': 0.0,\n",
       "  'mask_prior': 0.0,\n",
       "  'mask_sparse': 0.0,\n",
       "  'scope': 'rnn_cell_h',\n",
       "  'shape': TensorShape([])},\n",
       " 'rnn_cell_h/tao_r2:0': {'keyword': 'tao',\n",
       "  'mask_gradient': 0.0,\n",
       "  'mask_prior': 0.0,\n",
       "  'mask_sparse': 0.0,\n",
       "  'scope': 'rnn_cell_h',\n",
       "  'shape': TensorShape([])},\n",
       " 'rnn_cell_x/Wxu:0': {'keyword': 'Wxu', 'mask_gradient': array([[ 1.],\n",
       "         [ 1.],\n",
       "         [ 1.]]), 'mask_prior': array([[ 0.],\n",
       "         [ 0.],\n",
       "         [ 0.]]), 'mask_sparse': array([[ 0.8],\n",
       "         [ 0.8],\n",
       "         [ 0.8]]), 'scope': 'rnn_cell_x', 'shape': TensorShape([Dimension(3), Dimension(1)])},\n",
       " 'rnn_cell_x/Wxx:0': {'keyword': 'Wxx',\n",
       "  'mask_gradient': array([[ 1.,  1.,  1.],\n",
       "         [ 1.,  1.,  1.],\n",
       "         [ 1.,  1.,  1.]]),\n",
       "  'mask_prior': array([[ 0.,  0.,  0.],\n",
       "         [ 0.,  0.,  0.],\n",
       "         [ 0.,  0.,  0.]]),\n",
       "  'mask_sparse': array([[ 0.8,  0.8,  0.8],\n",
       "         [ 0.8,  0.8,  0.8],\n",
       "         [ 0.8,  0.8,  0.8]]),\n",
       "  'scope': 'rnn_cell_x',\n",
       "  'shape': TensorShape([Dimension(3), Dimension(3)])},\n",
       " 'rnn_cell_x/Wxxu_s0:0': {'keyword': 'Wxx',\n",
       "  'mask_gradient': array([[ 1.,  1.,  1.],\n",
       "         [ 1.,  1.,  1.],\n",
       "         [ 1.,  1.,  1.]]),\n",
       "  'mask_prior': array([[ 0.,  0.,  0.],\n",
       "         [ 0.,  0.,  0.],\n",
       "         [ 0.,  0.,  0.]]),\n",
       "  'mask_sparse': array([[ 0.8,  0.8,  0.8],\n",
       "         [ 0.8,  0.8,  0.8],\n",
       "         [ 0.8,  0.8,  0.8]]),\n",
       "  'scope': 'rnn_cell_x',\n",
       "  'shape': TensorShape([Dimension(3), Dimension(3)])}}"
      ]
     },
     "execution_count": 588,
     "metadata": {},
     "output_type": "execute_result"
    }
   ],
   "source": [
    "# build a model \n",
    "dr.build_a_model()\n",
    "dr.parameter_profile"
   ]
  },
  {
   "cell_type": "code",
   "execution_count": 589,
   "metadata": {
    "collapsed": true
   },
   "outputs": [],
   "source": [
    "# training summary\n",
    "acc_Wxx=1-util.rMSE(dr.Wxx,s.Wxx)\n",
    "acc_Wxxu=[1-util.rMSE(dr.Wxxu[n],s.Wxxu[n]) for n in range(dr.n_stimuli)]\n",
    "acc_Wxxu=tf.add_n(acc_Wxxu)\n",
    "acc_Wxu=1-util.rMSE(dr.Wxu,s.Wxu.reshape((m.n_region,1)))\n",
    "\n",
    "loss_summary = tf.scalar_summary('fMRI_prediction_loss',dr.loss_y)\n",
    "acc_Wxx_summary = tf.scalar_summary('acc_Wxx',acc_Wxx)\n",
    "acc_Wxxu_summary = tf.scalar_summary('acc_Wxxu',acc_Wxxu)\n",
    "acc_Wxu_summary = tf.scalar_summary('acc_Wxu',acc_Wxu)\n",
    "opt_summary = tf.merge_summary([loss_summary, acc_Wxx_summary, acc_Wxxu_summary,acc_Wxu_summary])\n",
    "\n",
    "summary_dir = os.path.abspath(os.path.join(os.path.curdir, \"summary\"))\n",
    "\n",
    "# remove existing files\n",
    "for the_file in os.listdir(summary_dir):\n",
    "    file_path = os.path.join(summary_dir, the_file)\n",
    "    try:\n",
    "        if os.path.isfile(file_path):\n",
    "            os.unlink(file_path)\n",
    "        #elif os.path.isdir(file_path): shutil.rmtree(file_path)\n",
    "    except Exception as e:\n",
    "        print(e)"
   ]
  },
  {
   "cell_type": "code",
   "execution_count": 590,
   "metadata": {
    "collapsed": true
   },
   "outputs": [],
   "source": [
    "# open session and initilize\n",
    "try:\n",
    "    isess\n",
    "except:\n",
    "    isess = tf.InteractiveSession()\n",
    "else:\n",
    "    isess.close()\n",
    "    isess = tf.InteractiveSession()\n",
    "\n",
    "opt_init_all=tf.initialize_all_variables()\n",
    "isess.run(opt_init_all)\n",
    "# add summary\n",
    "#summary_writer = tf.train.SummaryWriter(summary_dir, isess.graph)"
   ]
  },
  {
   "cell_type": "markdown",
   "metadata": {},
   "source": [
    "### version 2, masks are written in the model"
   ]
  },
  {
   "cell_type": "code",
   "execution_count": 366,
   "metadata": {
    "collapsed": false
   },
   "outputs": [
    {
     "name": "stdout",
     "output_type": "stream",
     "text": [
      "segment 0, loss_y 0.0824449, loss_sparse 2.42, loss_prior 0 \n",
      "epoch 0, loss_y 0.0824449, loss_sparse 2.42, loss_prior 0 \n"
     ]
    }
   ],
   "source": [
    "# test losses\n",
    "# f=open('timeline.json', 'w')\n",
    "loss_values_static=[]\n",
    "\n",
    "current_value = 0.3\n",
    "# set parameter value\n",
    "Wxx=np.array([[-1,0,0],[0.8,-1,0.4],[0.4,0.8,-1]],dtype=np.float32)*dr.t_delta+np.eye(dr.n_region,dr.n_region,0,dtype=np.float32)\n",
    "Wxxu=Wxxu=[np.array([[0,0,0],[0,0,0],[0,0,-0.4]],dtype=np.float32)*dr.t_delta for _ in range(dr.n_stimuli)]\n",
    "Wxu=np.eye(dr.n_region,dr.n_stimuli,dtype=np.float32)*0.4*dr.t_delta \n",
    "Wxu[0]=current_value*dr.t_delta\n",
    "dr.set_connection_matrices(isess, Wxx=Wxx, Wxxu=Wxxu, Wxu=Wxu)\n",
    "\n",
    "n_epoch=1\n",
    "for epoch in range(n_epoch):\n",
    "    loss_y_sum=0.\n",
    "    loss_sparse_sum=0.\n",
    "    loss_prior_sum=0.\n",
    "    x_feed=np.zeros((m.n_region,1),dtype=np.float32)\n",
    "    h_feed=[np.array([0.,1.,1.,1.],dtype=np.float32).reshape(4,1) for _ in range(dr.n_region)]\n",
    "\n",
    "    #for i in range(0,len(dh.u_list)):\n",
    "    for i in range(1):\n",
    "        feed_dict={i: d for i, d in zip(dr.h_state_initial, h_feed)}\n",
    "        feed_dict[dr.x_state_initial]=x_feed\n",
    "        feed_dict[dr.input_u]=dh.u_list[i]\n",
    "        feed_dict[dr.input_y_true]=dh.y_list[i]\n",
    "        #util.append_masks_to_feed_dict(dr,feed_dict,variable_dict)\n",
    "\n",
    "        grads_and_vars,processed_grads_and_vars,x_feed,h_feed,loss_y,loss_sparse_list,loss_sparse,loss_prior_list,loss_prior\\\n",
    "                                            = isess.run([\n",
    "                                            dr.grads_and_vars,\n",
    "                                            dr.processed_grads_and_vars,\n",
    "                                            #dr.apply_gradient,\n",
    "                                            dr.x_state_final,\n",
    "                                            dr.h_state_final,\n",
    "                                            dr.loss_y,\n",
    "                                            dr.loss_sparse_list,\n",
    "                                            dr.loss_sparse,\n",
    "                                            dr.loss_prior_list,\n",
    "                                            dr.loss_prior], feed_dict=feed_dict)\n",
    "        print(\"segment {:g}, loss_y {:g}, loss_sparse {:g}, loss_prior {:g} \"\\\n",
    "              .format(i, loss_y,loss_sparse, loss_prior))\n",
    "        loss_y_sum+=loss_y \n",
    "        loss_sparse_sum+=loss_sparse\n",
    "        loss_prior_sum+=loss_prior\n",
    "    loss_values_static.append(loss_sparse_sum)\n",
    "    print(\"epoch {:g}, loss_y {:g}, loss_sparse {:g}, loss_prior {:g} \"\\\n",
    "              .format(epoch, loss_y_sum,loss_sparse_sum, loss_prior_sum))"
   ]
  },
  {
   "cell_type": "code",
   "execution_count": 367,
   "metadata": {
    "collapsed": true
   },
   "outputs": [
    {
     "name": "stdout",
     "output_type": "stream",
     "text": [
      "Wxx\n"
     ]
    },
    {
     "data": {
      "text/html": [
       "<div>\n",
       "<table border=\"1\" class=\"dataframe\">\n",
       "  <thead>\n",
       "    <tr>\n",
       "      <th></th>\n",
       "      <th colspan=\"3\" halign=\"left\">set1</th>\n",
       "      <th colspan=\"3\" halign=\"left\">set2</th>\n",
       "      <th colspan=\"3\" halign=\"left\">difference</th>\n",
       "    </tr>\n",
       "    <tr>\n",
       "      <th></th>\n",
       "      <th>From_r0</th>\n",
       "      <th>From_r1</th>\n",
       "      <th>From_r2</th>\n",
       "      <th>From_r0</th>\n",
       "      <th>From_r1</th>\n",
       "      <th>From_r2</th>\n",
       "      <th>From_r0</th>\n",
       "      <th>From_r1</th>\n",
       "      <th>From_r2</th>\n",
       "    </tr>\n",
       "  </thead>\n",
       "  <tbody>\n",
       "    <tr>\n",
       "      <th>To_r0</th>\n",
       "      <td>0.75</td>\n",
       "      <td>0.00</td>\n",
       "      <td>0.00</td>\n",
       "      <td>0.75</td>\n",
       "      <td>0.00</td>\n",
       "      <td>0.00</td>\n",
       "      <td>0.0</td>\n",
       "      <td>0.0</td>\n",
       "      <td>0.0</td>\n",
       "    </tr>\n",
       "    <tr>\n",
       "      <th>To_r1</th>\n",
       "      <td>0.20</td>\n",
       "      <td>0.75</td>\n",
       "      <td>0.10</td>\n",
       "      <td>0.20</td>\n",
       "      <td>0.75</td>\n",
       "      <td>0.10</td>\n",
       "      <td>0.0</td>\n",
       "      <td>0.0</td>\n",
       "      <td>0.0</td>\n",
       "    </tr>\n",
       "    <tr>\n",
       "      <th>To_r2</th>\n",
       "      <td>0.10</td>\n",
       "      <td>0.20</td>\n",
       "      <td>0.75</td>\n",
       "      <td>0.10</td>\n",
       "      <td>0.20</td>\n",
       "      <td>0.75</td>\n",
       "      <td>0.0</td>\n",
       "      <td>0.0</td>\n",
       "      <td>0.0</td>\n",
       "    </tr>\n",
       "  </tbody>\n",
       "</table>\n",
       "</div>"
      ],
      "text/plain": [
       "         set1                    set2                 difference          \\\n",
       "      From_r0 From_r1 From_r2 From_r0 From_r1 From_r2    From_r0 From_r1   \n",
       "To_r0    0.75    0.00    0.00    0.75    0.00    0.00        0.0     0.0   \n",
       "To_r1    0.20    0.75    0.10    0.20    0.75    0.10        0.0     0.0   \n",
       "To_r2    0.10    0.20    0.75    0.10    0.20    0.75        0.0     0.0   \n",
       "\n",
       "               \n",
       "      From_r2  \n",
       "To_r0     0.0  \n",
       "To_r1     0.0  \n",
       "To_r2     0.0  "
      ]
     },
     "metadata": {},
     "output_type": "display_data"
    },
    {
     "name": "stdout",
     "output_type": "stream",
     "text": [
      "Wxxu_s0\n"
     ]
    },
    {
     "data": {
      "text/html": [
       "<div>\n",
       "<table border=\"1\" class=\"dataframe\">\n",
       "  <thead>\n",
       "    <tr>\n",
       "      <th></th>\n",
       "      <th colspan=\"3\" halign=\"left\">set1</th>\n",
       "      <th colspan=\"3\" halign=\"left\">set2</th>\n",
       "      <th colspan=\"3\" halign=\"left\">difference</th>\n",
       "    </tr>\n",
       "    <tr>\n",
       "      <th></th>\n",
       "      <th>From_r0</th>\n",
       "      <th>From_r1</th>\n",
       "      <th>From_r2</th>\n",
       "      <th>From_r0</th>\n",
       "      <th>From_r1</th>\n",
       "      <th>From_r2</th>\n",
       "      <th>From_r0</th>\n",
       "      <th>From_r1</th>\n",
       "      <th>From_r2</th>\n",
       "    </tr>\n",
       "  </thead>\n",
       "  <tbody>\n",
       "    <tr>\n",
       "      <th>To_r0</th>\n",
       "      <td>0.0</td>\n",
       "      <td>0.0</td>\n",
       "      <td>0.0</td>\n",
       "      <td>0.0</td>\n",
       "      <td>0.0</td>\n",
       "      <td>0.0</td>\n",
       "      <td>0.0</td>\n",
       "      <td>0.0</td>\n",
       "      <td>0.0</td>\n",
       "    </tr>\n",
       "    <tr>\n",
       "      <th>To_r1</th>\n",
       "      <td>0.0</td>\n",
       "      <td>0.0</td>\n",
       "      <td>0.0</td>\n",
       "      <td>0.0</td>\n",
       "      <td>0.0</td>\n",
       "      <td>0.0</td>\n",
       "      <td>0.0</td>\n",
       "      <td>0.0</td>\n",
       "      <td>0.0</td>\n",
       "    </tr>\n",
       "    <tr>\n",
       "      <th>To_r2</th>\n",
       "      <td>0.0</td>\n",
       "      <td>0.0</td>\n",
       "      <td>-0.1</td>\n",
       "      <td>0.0</td>\n",
       "      <td>0.0</td>\n",
       "      <td>-0.1</td>\n",
       "      <td>0.0</td>\n",
       "      <td>0.0</td>\n",
       "      <td>0.0</td>\n",
       "    </tr>\n",
       "  </tbody>\n",
       "</table>\n",
       "</div>"
      ],
      "text/plain": [
       "         set1                    set2                 difference          \\\n",
       "      From_r0 From_r1 From_r2 From_r0 From_r1 From_r2    From_r0 From_r1   \n",
       "To_r0     0.0     0.0     0.0     0.0     0.0     0.0        0.0     0.0   \n",
       "To_r1     0.0     0.0     0.0     0.0     0.0     0.0        0.0     0.0   \n",
       "To_r2     0.0     0.0    -0.1     0.0     0.0    -0.1        0.0     0.0   \n",
       "\n",
       "               \n",
       "      From_r2  \n",
       "To_r0     0.0  \n",
       "To_r1     0.0  \n",
       "To_r2     0.0  "
      ]
     },
     "metadata": {},
     "output_type": "display_data"
    },
    {
     "name": "stdout",
     "output_type": "stream",
     "text": [
      "Wxu\n"
     ]
    },
    {
     "data": {
      "text/html": [
       "<div>\n",
       "<table border=\"1\" class=\"dataframe\">\n",
       "  <thead>\n",
       "    <tr>\n",
       "      <th></th>\n",
       "      <th>set1</th>\n",
       "      <th>set2</th>\n",
       "      <th>difference</th>\n",
       "    </tr>\n",
       "    <tr>\n",
       "      <th></th>\n",
       "      <th>stimuli_0</th>\n",
       "      <th>stimuli_0</th>\n",
       "      <th>stimuli_0</th>\n",
       "    </tr>\n",
       "  </thead>\n",
       "  <tbody>\n",
       "    <tr>\n",
       "      <th>To_r0</th>\n",
       "      <td>0.075</td>\n",
       "      <td>0.1</td>\n",
       "      <td>-0.025</td>\n",
       "    </tr>\n",
       "    <tr>\n",
       "      <th>To_r1</th>\n",
       "      <td>0.000</td>\n",
       "      <td>0.0</td>\n",
       "      <td>0.000</td>\n",
       "    </tr>\n",
       "    <tr>\n",
       "      <th>To_r2</th>\n",
       "      <td>0.000</td>\n",
       "      <td>0.0</td>\n",
       "      <td>0.000</td>\n",
       "    </tr>\n",
       "  </tbody>\n",
       "</table>\n",
       "</div>"
      ],
      "text/plain": [
       "           set1      set2 difference\n",
       "      stimuli_0 stimuli_0  stimuli_0\n",
       "To_r0     0.075       0.1     -0.025\n",
       "To_r1     0.000       0.0      0.000\n",
       "To_r2     0.000       0.0      0.000"
      ]
     },
     "metadata": {},
     "output_type": "display_data"
    },
    {
     "name": "stdout",
     "output_type": "stream",
     "text": [
      "hemodynamic_parameters\n"
     ]
    },
    {
     "data": {
      "text/html": [
       "<div>\n",
       "<table border=\"1\" class=\"dataframe\">\n",
       "  <thead>\n",
       "    <tr style=\"text-align: right;\">\n",
       "      <th></th>\n",
       "      <th></th>\n",
       "      <th>alpha</th>\n",
       "      <th>E0</th>\n",
       "      <th>k</th>\n",
       "      <th>gamma</th>\n",
       "      <th>tao</th>\n",
       "      <th>epsilon</th>\n",
       "      <th>V0</th>\n",
       "      <th>TE</th>\n",
       "      <th>r0</th>\n",
       "      <th>theta0</th>\n",
       "    </tr>\n",
       "  </thead>\n",
       "  <tbody>\n",
       "    <tr>\n",
       "      <th rowspan=\"3\" valign=\"top\">set1</th>\n",
       "      <th>region_0</th>\n",
       "      <td>0.320000</td>\n",
       "      <td>0.340000</td>\n",
       "      <td>0.650000</td>\n",
       "      <td>0.410000</td>\n",
       "      <td>0.980000</td>\n",
       "      <td>4.000000e-01</td>\n",
       "      <td>100.0</td>\n",
       "      <td>3.000000e-02</td>\n",
       "      <td>25.0</td>\n",
       "      <td>4.030000e+01</td>\n",
       "    </tr>\n",
       "    <tr>\n",
       "      <th>region_1</th>\n",
       "      <td>0.320000</td>\n",
       "      <td>0.340000</td>\n",
       "      <td>0.650000</td>\n",
       "      <td>0.410000</td>\n",
       "      <td>0.980000</td>\n",
       "      <td>4.000000e-01</td>\n",
       "      <td>100.0</td>\n",
       "      <td>3.000000e-02</td>\n",
       "      <td>25.0</td>\n",
       "      <td>4.030000e+01</td>\n",
       "    </tr>\n",
       "    <tr>\n",
       "      <th>region_2</th>\n",
       "      <td>0.320000</td>\n",
       "      <td>0.340000</td>\n",
       "      <td>0.650000</td>\n",
       "      <td>0.410000</td>\n",
       "      <td>0.980000</td>\n",
       "      <td>4.000000e-01</td>\n",
       "      <td>100.0</td>\n",
       "      <td>3.000000e-02</td>\n",
       "      <td>25.0</td>\n",
       "      <td>4.030000e+01</td>\n",
       "    </tr>\n",
       "    <tr>\n",
       "      <th rowspan=\"3\" valign=\"top\">set2</th>\n",
       "      <th>region_0</th>\n",
       "      <td>0.322472</td>\n",
       "      <td>0.311777</td>\n",
       "      <td>0.699581</td>\n",
       "      <td>0.393486</td>\n",
       "      <td>1.156395</td>\n",
       "      <td>4.000000e-01</td>\n",
       "      <td>100.0</td>\n",
       "      <td>3.000000e-02</td>\n",
       "      <td>25.0</td>\n",
       "      <td>4.030000e+01</td>\n",
       "    </tr>\n",
       "    <tr>\n",
       "      <th>region_1</th>\n",
       "      <td>0.348695</td>\n",
       "      <td>0.338680</td>\n",
       "      <td>0.603847</td>\n",
       "      <td>0.380131</td>\n",
       "      <td>0.997643</td>\n",
       "      <td>4.000000e-01</td>\n",
       "      <td>100.0</td>\n",
       "      <td>3.000000e-02</td>\n",
       "      <td>25.0</td>\n",
       "      <td>4.030000e+01</td>\n",
       "    </tr>\n",
       "    <tr>\n",
       "      <th>region_2</th>\n",
       "      <td>0.290763</td>\n",
       "      <td>0.319077</td>\n",
       "      <td>0.718197</td>\n",
       "      <td>0.397786</td>\n",
       "      <td>0.806494</td>\n",
       "      <td>4.000000e-01</td>\n",
       "      <td>100.0</td>\n",
       "      <td>3.000000e-02</td>\n",
       "      <td>25.0</td>\n",
       "      <td>4.030000e+01</td>\n",
       "    </tr>\n",
       "    <tr>\n",
       "      <th rowspan=\"3\" valign=\"top\">difference</th>\n",
       "      <th>region_0</th>\n",
       "      <td>-0.002472</td>\n",
       "      <td>0.028223</td>\n",
       "      <td>-0.049582</td>\n",
       "      <td>0.016514</td>\n",
       "      <td>-0.176395</td>\n",
       "      <td>5.960464e-09</td>\n",
       "      <td>0.0</td>\n",
       "      <td>-6.705523e-10</td>\n",
       "      <td>0.0</td>\n",
       "      <td>-7.629395e-07</td>\n",
       "    </tr>\n",
       "    <tr>\n",
       "      <th>region_1</th>\n",
       "      <td>-0.028695</td>\n",
       "      <td>0.001320</td>\n",
       "      <td>0.046153</td>\n",
       "      <td>0.029869</td>\n",
       "      <td>-0.017643</td>\n",
       "      <td>5.960464e-09</td>\n",
       "      <td>0.0</td>\n",
       "      <td>-6.705523e-10</td>\n",
       "      <td>0.0</td>\n",
       "      <td>-7.629395e-07</td>\n",
       "    </tr>\n",
       "    <tr>\n",
       "      <th>region_2</th>\n",
       "      <td>0.029237</td>\n",
       "      <td>0.020923</td>\n",
       "      <td>-0.068197</td>\n",
       "      <td>0.012214</td>\n",
       "      <td>0.173506</td>\n",
       "      <td>5.960464e-09</td>\n",
       "      <td>0.0</td>\n",
       "      <td>-6.705523e-10</td>\n",
       "      <td>0.0</td>\n",
       "      <td>-7.629395e-07</td>\n",
       "    </tr>\n",
       "  </tbody>\n",
       "</table>\n",
       "</div>"
      ],
      "text/plain": [
       "                        alpha        E0         k     gamma       tao  \\\n",
       "set1       region_0  0.320000  0.340000  0.650000  0.410000  0.980000   \n",
       "           region_1  0.320000  0.340000  0.650000  0.410000  0.980000   \n",
       "           region_2  0.320000  0.340000  0.650000  0.410000  0.980000   \n",
       "set2       region_0  0.322472  0.311777  0.699581  0.393486  1.156395   \n",
       "           region_1  0.348695  0.338680  0.603847  0.380131  0.997643   \n",
       "           region_2  0.290763  0.319077  0.718197  0.397786  0.806494   \n",
       "difference region_0 -0.002472  0.028223 -0.049582  0.016514 -0.176395   \n",
       "           region_1 -0.028695  0.001320  0.046153  0.029869 -0.017643   \n",
       "           region_2  0.029237  0.020923 -0.068197  0.012214  0.173506   \n",
       "\n",
       "                          epsilon     V0            TE    r0        theta0  \n",
       "set1       region_0  4.000000e-01  100.0  3.000000e-02  25.0  4.030000e+01  \n",
       "           region_1  4.000000e-01  100.0  3.000000e-02  25.0  4.030000e+01  \n",
       "           region_2  4.000000e-01  100.0  3.000000e-02  25.0  4.030000e+01  \n",
       "set2       region_0  4.000000e-01  100.0  3.000000e-02  25.0  4.030000e+01  \n",
       "           region_1  4.000000e-01  100.0  3.000000e-02  25.0  4.030000e+01  \n",
       "           region_2  4.000000e-01  100.0  3.000000e-02  25.0  4.030000e+01  \n",
       "difference region_0  5.960464e-09    0.0 -6.705523e-10   0.0 -7.629395e-07  \n",
       "           region_1  5.960464e-09    0.0 -6.705523e-10   0.0 -7.629395e-07  \n",
       "           region_2  5.960464e-09    0.0 -6.705523e-10   0.0 -7.629395e-07  "
      ]
     },
     "metadata": {},
     "output_type": "display_data"
    }
   ],
   "source": [
    "importlib.reload(DCM_RNN)\n",
    "util=DCM_RNN.utilities()\n",
    "parameter_trained=util.show_all_variable_value(dr,isess,visFlag=False)\n",
    "tmp=util.compare_parameters(parameter_trained,parameter_true,visFlag=True,parameter_list=['Wxx','Wxxu_s0','Wxu','hemodynamic_parameters'])"
   ]
  },
  {
   "cell_type": "code",
   "execution_count": 368,
   "metadata": {
    "collapsed": false
   },
   "outputs": [
    {
     "name": "stdout",
     "output_type": "stream",
     "text": [
      "0.0824448987842\n",
      "2.42000007629\n",
      "0.0\n"
     ]
    }
   ],
   "source": [
    "print(loss_y_sum)\n",
    "print(loss_sparse_sum)\n",
    "print(loss_prior_sum)"
   ]
  },
  {
   "cell_type": "code",
   "execution_count": 491,
   "metadata": {
    "collapsed": false
   },
   "outputs": [
    {
     "data": {
      "text/plain": [
       "array([[ 0.,  1.,  1.,  1.],\n",
       "       [ 0.,  1.,  1.,  1.],\n",
       "       [ 0.,  1.,  1.,  1.]])"
      ]
     },
     "execution_count": 491,
     "metadata": {},
     "output_type": "execute_result"
    }
   ],
   "source": [
    "s.h_state_initial"
   ]
  },
  {
   "cell_type": "code",
   "execution_count": 493,
   "metadata": {
    "collapsed": false
   },
   "outputs": [
    {
     "data": {
      "text/plain": [
       "(3, 1, 1440)"
      ]
     },
     "execution_count": 493,
     "metadata": {},
     "output_type": "execute_result"
    }
   ],
   "source": [
    "s.x_state.shape"
   ]
  },
  {
   "cell_type": "code",
   "execution_count": 591,
   "metadata": {
    "collapsed": true
   },
   "outputs": [],
   "source": [
    "# set a particular initial point\n",
    "Wxx=np.array([[-0.8,0.2,0],[0.9,-0.8,0.5],[0,0.7,-0.8]],dtype=np.float32)*dr.t_delta+np.eye(dr.n_region,dr.n_region,0,dtype=np.float32)\n",
    "Wxxu=Wxxu=[np.array([[0,0,0],[0,0,0],[0,0,-0.55]],dtype=np.float32)*dr.t_delta for _ in range(dr.n_stimuli)]\n",
    "Wxu=np.eye(dr.n_region,dr.n_stimuli,dtype=np.float32)*0.6*dr.t_delta \n",
    "dr.set_connection_matrices(isess, Wxx=Wxx, Wxxu=Wxxu, Wxu=Wxu)"
   ]
  },
  {
   "cell_type": "code",
   "execution_count": 596,
   "metadata": {
    "collapsed": false,
    "scrolled": true
   },
   "outputs": [
    {
     "name": "stdout",
     "output_type": "stream",
     "text": [
      "epoch 0, l_y 2093.85, l_s 294.794,l_p 0, l_t 2388.64, acc_Wxx 0.949353, acc_Wxxu 0.86063, acc_Wxu 0.965878\n",
      "epoch 1, l_y 2045.74, l_s 294.496,l_p 0, l_t 2340.24, acc_Wxx 0.94967, acc_Wxxu 0.869329, acc_Wxu 0.967141\n",
      "epoch 2, l_y 2004.48, l_s 294.22,l_p 0, l_t 2298.7, acc_Wxx 0.949963, acc_Wxxu 0.878101, acc_Wxu 0.967802\n",
      "epoch 3, l_y 1976.29, l_s 293.996,l_p 0, l_t 2270.28, acc_Wxx 0.950234, acc_Wxxu 0.88695, acc_Wxu 0.968473\n",
      "epoch 4, l_y 1954.03, l_s 293.799,l_p 0, l_t 2247.83, acc_Wxx 0.95049, acc_Wxxu 0.895853, acc_Wxu 0.969147\n",
      "epoch 5, l_y 1935.81, l_s 293.622,l_p 0, l_t 2229.43, acc_Wxx 0.950734, acc_Wxxu 0.904793, acc_Wxu 0.969813\n"
     ]
    },
    {
     "ename": "KeyboardInterrupt",
     "evalue": "",
     "output_type": "error",
     "traceback": [
      "\u001b[0;31m---------------------------------------------------------------------------\u001b[0m",
      "\u001b[0;31mKeyboardInterrupt\u001b[0m                         Traceback (most recent call last)",
      "\u001b[0;32m<ipython-input-596-a9e70ec93efd>\u001b[0m in \u001b[0;36m<module>\u001b[0;34m()\u001b[0m\n\u001b[1;32m     66\u001b[0m                                                     \u001b[0macc_Wxxu\u001b[0m\u001b[0;34m,\u001b[0m\u001b[0;34m\u001b[0m\u001b[0m\n\u001b[1;32m     67\u001b[0m                                                     acc_Wxu],\n\u001b[0;32m---> 68\u001b[0;31m                                                     feed_dict=feed_dict)\n\u001b[0m\u001b[1;32m     69\u001b[0m         \u001b[0mloss_y_sum\u001b[0m\u001b[0;34m+=\u001b[0m\u001b[0mloss_y\u001b[0m\u001b[0;34m\u001b[0m\u001b[0m\n\u001b[1;32m     70\u001b[0m         \u001b[0mloss_sparse_sum\u001b[0m\u001b[0;34m+=\u001b[0m\u001b[0mloss_sparse\u001b[0m\u001b[0;34m\u001b[0m\u001b[0m\n",
      "\u001b[0;32m/Users/yuanwang/anaconda/envs/tensorFlow/lib/python3.5/site-packages/tensorflow/python/client/session.py\u001b[0m in \u001b[0;36mrun\u001b[0;34m(self, fetches, feed_dict, options, run_metadata)\u001b[0m\n\u001b[1;32m    708\u001b[0m     \u001b[0;32mtry\u001b[0m\u001b[0;34m:\u001b[0m\u001b[0;34m\u001b[0m\u001b[0m\n\u001b[1;32m    709\u001b[0m       result = self._run(None, fetches, feed_dict, options_ptr,\n\u001b[0;32m--> 710\u001b[0;31m                          run_metadata_ptr)\n\u001b[0m\u001b[1;32m    711\u001b[0m       \u001b[0;32mif\u001b[0m \u001b[0mrun_metadata\u001b[0m\u001b[0;34m:\u001b[0m\u001b[0;34m\u001b[0m\u001b[0m\n\u001b[1;32m    712\u001b[0m         \u001b[0mproto_data\u001b[0m \u001b[0;34m=\u001b[0m \u001b[0mtf_session\u001b[0m\u001b[0;34m.\u001b[0m\u001b[0mTF_GetBuffer\u001b[0m\u001b[0;34m(\u001b[0m\u001b[0mrun_metadata_ptr\u001b[0m\u001b[0;34m)\u001b[0m\u001b[0;34m\u001b[0m\u001b[0m\n",
      "\u001b[0;32m/Users/yuanwang/anaconda/envs/tensorFlow/lib/python3.5/site-packages/tensorflow/python/client/session.py\u001b[0m in \u001b[0;36m_run\u001b[0;34m(self, handle, fetches, feed_dict, options, run_metadata)\u001b[0m\n\u001b[1;32m    906\u001b[0m     \u001b[0;32mif\u001b[0m \u001b[0mfinal_fetches\u001b[0m \u001b[0;32mor\u001b[0m \u001b[0mfinal_targets\u001b[0m\u001b[0;34m:\u001b[0m\u001b[0;34m\u001b[0m\u001b[0m\n\u001b[1;32m    907\u001b[0m       results = self._do_run(handle, final_targets, final_fetches,\n\u001b[0;32m--> 908\u001b[0;31m                              feed_dict_string, options, run_metadata)\n\u001b[0m\u001b[1;32m    909\u001b[0m     \u001b[0;32melse\u001b[0m\u001b[0;34m:\u001b[0m\u001b[0;34m\u001b[0m\u001b[0m\n\u001b[1;32m    910\u001b[0m       \u001b[0mresults\u001b[0m \u001b[0;34m=\u001b[0m \u001b[0;34m[\u001b[0m\u001b[0;34m]\u001b[0m\u001b[0;34m\u001b[0m\u001b[0m\n",
      "\u001b[0;32m/Users/yuanwang/anaconda/envs/tensorFlow/lib/python3.5/site-packages/tensorflow/python/client/session.py\u001b[0m in \u001b[0;36m_do_run\u001b[0;34m(self, handle, target_list, fetch_list, feed_dict, options, run_metadata)\u001b[0m\n\u001b[1;32m    956\u001b[0m     \u001b[0;32mif\u001b[0m \u001b[0mhandle\u001b[0m \u001b[0;32mis\u001b[0m \u001b[0;32mNone\u001b[0m\u001b[0;34m:\u001b[0m\u001b[0;34m\u001b[0m\u001b[0m\n\u001b[1;32m    957\u001b[0m       return self._do_call(_run_fn, self._session, feed_dict, fetch_list,\n\u001b[0;32m--> 958\u001b[0;31m                            target_list, options, run_metadata)\n\u001b[0m\u001b[1;32m    959\u001b[0m     \u001b[0;32melse\u001b[0m\u001b[0;34m:\u001b[0m\u001b[0;34m\u001b[0m\u001b[0m\n\u001b[1;32m    960\u001b[0m       return self._do_call(_prun_fn, self._session, handle, feed_dict,\n",
      "\u001b[0;32m/Users/yuanwang/anaconda/envs/tensorFlow/lib/python3.5/site-packages/tensorflow/python/client/session.py\u001b[0m in \u001b[0;36m_do_call\u001b[0;34m(self, fn, *args)\u001b[0m\n\u001b[1;32m    963\u001b[0m   \u001b[0;32mdef\u001b[0m \u001b[0m_do_call\u001b[0m\u001b[0;34m(\u001b[0m\u001b[0mself\u001b[0m\u001b[0;34m,\u001b[0m \u001b[0mfn\u001b[0m\u001b[0;34m,\u001b[0m \u001b[0;34m*\u001b[0m\u001b[0margs\u001b[0m\u001b[0;34m)\u001b[0m\u001b[0;34m:\u001b[0m\u001b[0;34m\u001b[0m\u001b[0m\n\u001b[1;32m    964\u001b[0m     \u001b[0;32mtry\u001b[0m\u001b[0;34m:\u001b[0m\u001b[0;34m\u001b[0m\u001b[0m\n\u001b[0;32m--> 965\u001b[0;31m       \u001b[0;32mreturn\u001b[0m \u001b[0mfn\u001b[0m\u001b[0;34m(\u001b[0m\u001b[0;34m*\u001b[0m\u001b[0margs\u001b[0m\u001b[0;34m)\u001b[0m\u001b[0;34m\u001b[0m\u001b[0m\n\u001b[0m\u001b[1;32m    966\u001b[0m     \u001b[0;32mexcept\u001b[0m \u001b[0merrors\u001b[0m\u001b[0;34m.\u001b[0m\u001b[0mOpError\u001b[0m \u001b[0;32mas\u001b[0m \u001b[0me\u001b[0m\u001b[0;34m:\u001b[0m\u001b[0;34m\u001b[0m\u001b[0m\n\u001b[1;32m    967\u001b[0m       \u001b[0mmessage\u001b[0m \u001b[0;34m=\u001b[0m \u001b[0mcompat\u001b[0m\u001b[0;34m.\u001b[0m\u001b[0mas_text\u001b[0m\u001b[0;34m(\u001b[0m\u001b[0me\u001b[0m\u001b[0;34m.\u001b[0m\u001b[0mmessage\u001b[0m\u001b[0;34m)\u001b[0m\u001b[0;34m\u001b[0m\u001b[0m\n",
      "\u001b[0;32m/Users/yuanwang/anaconda/envs/tensorFlow/lib/python3.5/site-packages/tensorflow/python/client/session.py\u001b[0m in \u001b[0;36m_run_fn\u001b[0;34m(session, feed_dict, fetch_list, target_list, options, run_metadata)\u001b[0m\n\u001b[1;32m    945\u001b[0m         return tf_session.TF_Run(session, options,\n\u001b[1;32m    946\u001b[0m                                  \u001b[0mfeed_dict\u001b[0m\u001b[0;34m,\u001b[0m \u001b[0mfetch_list\u001b[0m\u001b[0;34m,\u001b[0m \u001b[0mtarget_list\u001b[0m\u001b[0;34m,\u001b[0m\u001b[0;34m\u001b[0m\u001b[0m\n\u001b[0;32m--> 947\u001b[0;31m                                  status, run_metadata)\n\u001b[0m\u001b[1;32m    948\u001b[0m \u001b[0;34m\u001b[0m\u001b[0m\n\u001b[1;32m    949\u001b[0m     \u001b[0;32mdef\u001b[0m \u001b[0m_prun_fn\u001b[0m\u001b[0;34m(\u001b[0m\u001b[0msession\u001b[0m\u001b[0;34m,\u001b[0m \u001b[0mhandle\u001b[0m\u001b[0;34m,\u001b[0m \u001b[0mfeed_dict\u001b[0m\u001b[0;34m,\u001b[0m \u001b[0mfetch_list\u001b[0m\u001b[0;34m)\u001b[0m\u001b[0;34m:\u001b[0m\u001b[0;34m\u001b[0m\u001b[0m\n",
      "\u001b[0;31mKeyboardInterrupt\u001b[0m: "
     ]
    }
   ],
   "source": [
    "# training\n",
    "# f=open('timeline.json', 'w')\n",
    "loss_y_values=[]\n",
    "loss_sparse_values=[]\n",
    "loss_prior_values=[]\n",
    "loss_total_values=[]\n",
    "\n",
    "parameter_tmp=isess.run(dr.Wxx)/dr.t_delta\n",
    "parameter_initial1=float(parameter_tmp[1,0])\n",
    "parameter_tmp=isess.run(dr.Wxu)/dr.t_delta\n",
    "parameter_initial2=float(parameter_tmp[1])\n",
    "parameter_values1=[]\n",
    "parameter_values2=[]\n",
    "parameter_values1.append(parameter_initial1)\n",
    "parameter_values2.append(parameter_initial2)\n",
    "n_epoch=12\n",
    "for epoch in range(n_epoch):\n",
    "    loss_y_sum=0.\n",
    "    loss_sparse_sum=0.\n",
    "    loss_prior_sum=0.\n",
    "    loss_total_sum=0.\n",
    "    x_feed=np.zeros((m.n_region,1),dtype=np.float32)\n",
    "    h_feed=[np.array([0.,1.,1.,1.],dtype=np.float32).reshape(4,1) for _ in range(dr.n_region)]\n",
    "    #for i in range(0,len(dh.u_list)):\n",
    "    # do not do BP for the first segments because of initial states uncertainty \n",
    "    \n",
    "    for i in range(0,5):\n",
    "        feed_dict={i: d for i, d in zip(dr.h_state_initial, h_feed)}\n",
    "        feed_dict[dr.x_state_initial]=x_feed\n",
    "        feed_dict[dr.input_u]=dh.u_list[i]\n",
    "        feed_dict[dr.input_y_true]=dh.y_list[i]\n",
    "        #util.append_masks_to_feed_dict(dr,feed_dict,variable_dict)\n",
    "   \n",
    "        x_feed,h_feed,loss_y,loss_sparse,loss_prior,loss_total = isess.run([\n",
    "                                                    dr.x_state_final,\n",
    "                                                    dr.h_state_final,\n",
    "                                                    dr.loss_y,\n",
    "                                                    dr.loss_sparse,\n",
    "                                                    dr.loss_prior,\n",
    "                                                    dr.loss_total,], feed_dict=feed_dict)\n",
    "        loss_y_sum+=loss_y\n",
    "        loss_sparse_sum+=loss_sparse\n",
    "        loss_prior_sum+=loss_prior\n",
    "        loss_total_sum+=loss_total\n",
    "        #print(\"segment {:g}, loss_y {:g}, loss_sparse {:g}, loss_prior {:g} \"\\\n",
    "        #      .format(i, loss_y,loss_sparse, loss_prior))\n",
    "    \n",
    "    for i in range(5,len(dh.u_list)):\n",
    "        feed_dict={i: d for i, d in zip(dr.h_state_initial, h_feed)}\n",
    "        feed_dict[dr.x_state_initial]=x_feed\n",
    "        feed_dict[dr.input_u]=dh.u_list[i]\n",
    "        feed_dict[dr.input_y_true]=dh.y_list[i]\n",
    "        #util.append_masks_to_feed_dict(dr,feed_dict,variable_dict)\n",
    "        #grads_and_vars_tmp\n",
    "        grads_and_vars_tmp,tmp,x_feed,h_feed,loss_y,loss_sparse,loss_prior,loss_total, summaries, acc_Wxx_tmp,acc_Wxxu_tmp,acc_Wxu_tmp \\\n",
    "                                                    = isess.run([\n",
    "                                                    dr.apply_gradient,\n",
    "                                                    dr.x_state_predicted,\n",
    "                                                    dr.x_state_final,\n",
    "                                                    dr.h_state_final,\n",
    "                                                    dr.loss_y,\n",
    "                                                    dr.loss_sparse,\n",
    "                                                    dr.loss_prior,\n",
    "                                                    dr.loss_total,\n",
    "                                                    opt_summary,\n",
    "                                                    acc_Wxx,\n",
    "                                                    acc_Wxxu,\n",
    "                                                    acc_Wxu],\n",
    "                                                    feed_dict=feed_dict)\n",
    "        loss_y_sum+=loss_y\n",
    "        loss_sparse_sum+=loss_sparse\n",
    "        loss_prior_sum+=loss_prior\n",
    "        loss_total_sum+=loss_total\n",
    "        #print(\"segment {:g}, loss_y {:g}, loss_sparse {:g}, loss_prior {:g} \"\\\n",
    "        #      .format(i, loss_y,loss_sparse, loss_prior))\n",
    "        \n",
    "    #print('epoch = '+str(epoch))\n",
    "    parameter_tmp=isess.run(dr.Wxx)/dr.t_delta\n",
    "    parameter_values1.append(float(parameter_tmp[1,0]))\n",
    "    parameter_tmp=isess.run(dr.Wxu)/dr.t_delta\n",
    "    parameter_values2.append(float(parameter_tmp[1]))\n",
    "    \n",
    "    loss_y_values.append(loss_y_sum)\n",
    "    loss_sparse_values.append(loss_sparse_sum)\n",
    "    loss_prior_values.append(loss_prior_sum)\n",
    "    loss_total_values.append(loss_total_sum)\n",
    "    print(\"epoch {}, l_y {:g}, l_s {:g},l_p {:g}, l_t {:g}, acc_Wxx {:g}, acc_Wxxu {:g}, acc_Wxu {:g}\"\\\n",
    "         .format(epoch, loss_y_sum,loss_sparse_sum,float(loss_prior_sum),float(loss_total_sum), acc_Wxx_tmp, acc_Wxxu_tmp, acc_Wxu_tmp))\n",
    "    "
   ]
  },
  {
   "cell_type": "code",
   "execution_count": 597,
   "metadata": {
    "collapsed": false
   },
   "outputs": [
    {
     "data": {
      "image/png": "[encoded data removed]",
      "text/plain": [
       "<matplotlib.figure.Figure at 0x145b48a58>"
      ]
     },
     "metadata": {},
     "output_type": "display_data"
    }
   ],
   "source": [
    "# plot the BP process\n",
    "ax = plt.axes()\n",
    "# plt.figure()\n",
    "for idx in range(1,len(loss_total_values)):\n",
    "    ax.arrow(float(parameter_values2[idx-1]), parameter_values1[idx-1],\\\n",
    "             float(parameter_values2[idx])-float(parameter_values2[idx-1]), (parameter_values1[idx]-parameter_values1[idx-1]),\\\n",
    "            head_width=0.01, head_length=0.01,length_includes_head=True)\n",
    "\n",
    "\n",
    "plt.annotate('Global minimum (0.8,0)', xy=(0, 0.8), xytext=(0.05, 0.7),\n",
    "            arrowprops=dict(facecolor='black', shrink=0.05),)\n",
    "plt.plot(0,0.8,'bo')\n",
    "plt.title('Loss value')\n",
    "plt.xlabel('C2')\n",
    "plt.ylabel('A21')\n",
    "plt.show()\n",
    "\n"
   ]
  },
  {
   "cell_type": "code",
   "execution_count": 598,
   "metadata": {
    "collapsed": false
   },
   "outputs": [
    {
     "data": {
      "image/png": "[encoded data removed]",
      "text/plain": [
       "<matplotlib.figure.Figure at 0x165239f60>"
      ]
     },
     "metadata": {},
     "output_type": "display_data"
    }
   ],
   "source": [
    "# visulize pridicted x_state and true x_state (after training)\n",
    "x_predicted=util.forward_pass_x(dr,dh,isess)\n",
    "n_monitor=256\n",
    "for n in range(m.n_region):\n",
    "    plt.subplot(3,1,n+1)\n",
    "    plt.plot(np.arange(n_monitor)*m.t_delta,x[n,0,:n_monitor].transpose(),label='true')\n",
    "    plt.plot(np.arange(n_monitor)*m.t_delta,x_predicted[n,0:n_monitor].transpose(),label='predicted')\n",
    "    plt.legend(bbox_to_anchor=(1.05, 1), loc=2)"
   ]
  },
  {
   "cell_type": "code",
   "execution_count": null,
   "metadata": {
    "collapsed": false
   },
   "outputs": [],
   "source": [
    "# visulize pridicted h_state and true h_state (before training)\n",
    "h_predicted=util.forward_pass_h(dr,dh,isess)\n",
    "n_monitor=256\n",
    "i_h_state=1\n",
    "for n in range(m.n_region):\n",
    "    plt.subplot(3,1,n+1)\n",
    "    plt.plot(np.arange(n_monitor)*m.t_delta,h[n,i_h_state,0:n_monitor].transpose(),label='true')\n",
    "    plt.plot(np.arange(n_monitor)*m.t_delta,h_predicted[n][i_h_state,0:n_monitor].transpose(),label='predicted')\n",
    "    plt.legend(bbox_to_anchor=(1.05, 1), loc=2)"
   ]
  },
  {
   "cell_type": "code",
   "execution_count": 489,
   "metadata": {
    "collapsed": false,
    "scrolled": true
   },
   "outputs": [
    {
     "data": {
      "image/png": "[encoded data removed]",
      "text/plain": [
       "<matplotlib.figure.Figure at 0x13572a3c8>"
      ]
     },
     "metadata": {},
     "output_type": "display_data"
    }
   ],
   "source": [
    "y_predicted=util.forward_pass_y(dr,dh,isess)\n",
    "n_monitor=256#m.n_time_point\n",
    "for n in range(m.n_region):\n",
    "    plt.subplot(3,1,n+1)\n",
    "    plt.plot(np.arange(n_monitor)*m.t_delta,y[n,0,:n_monitor].transpose(),label='true')\n",
    "    plt.plot(np.arange(n_monitor)*m.t_delta,y_predicted[n,0:n_monitor].transpose(),label='predicted')\n",
    "    plt.legend(bbox_to_anchor=(1.05, 1), loc=2)"
   ]
  },
  {
   "cell_type": "code",
   "execution_count": 490,
   "metadata": {
    "collapsed": false,
    "scrolled": false
   },
   "outputs": [
    {
     "name": "stdout",
     "output_type": "stream",
     "text": [
      "Wxx\n"
     ]
    },
    {
     "data": {
      "text/html": [
       "<div>\n",
       "<table border=\"1\" class=\"dataframe\">\n",
       "  <thead>\n",
       "    <tr>\n",
       "      <th></th>\n",
       "      <th colspan=\"3\" halign=\"left\">set1</th>\n",
       "      <th colspan=\"3\" halign=\"left\">set2</th>\n",
       "      <th colspan=\"3\" halign=\"left\">difference</th>\n",
       "    </tr>\n",
       "    <tr>\n",
       "      <th></th>\n",
       "      <th>From_r0</th>\n",
       "      <th>From_r1</th>\n",
       "      <th>From_r2</th>\n",
       "      <th>From_r0</th>\n",
       "      <th>From_r1</th>\n",
       "      <th>From_r2</th>\n",
       "      <th>From_r0</th>\n",
       "      <th>From_r1</th>\n",
       "      <th>From_r2</th>\n",
       "    </tr>\n",
       "  </thead>\n",
       "  <tbody>\n",
       "    <tr>\n",
       "      <th>To_r0</th>\n",
       "      <td>0.744434</td>\n",
       "      <td>0.005789</td>\n",
       "      <td>-0.000004</td>\n",
       "      <td>0.75</td>\n",
       "      <td>0.00</td>\n",
       "      <td>0.00</td>\n",
       "      <td>-0.005566</td>\n",
       "      <td>0.005789</td>\n",
       "      <td>-0.000004</td>\n",
       "    </tr>\n",
       "    <tr>\n",
       "      <th>To_r1</th>\n",
       "      <td>0.164515</td>\n",
       "      <td>0.733437</td>\n",
       "      <td>0.081715</td>\n",
       "      <td>0.20</td>\n",
       "      <td>0.75</td>\n",
       "      <td>0.10</td>\n",
       "      <td>-0.035485</td>\n",
       "      <td>-0.016563</td>\n",
       "      <td>-0.018285</td>\n",
       "    </tr>\n",
       "    <tr>\n",
       "      <th>To_r2</th>\n",
       "      <td>0.079357</td>\n",
       "      <td>0.209877</td>\n",
       "      <td>0.793387</td>\n",
       "      <td>0.10</td>\n",
       "      <td>0.20</td>\n",
       "      <td>0.75</td>\n",
       "      <td>-0.020643</td>\n",
       "      <td>0.009877</td>\n",
       "      <td>0.043387</td>\n",
       "    </tr>\n",
       "  </tbody>\n",
       "</table>\n",
       "</div>"
      ],
      "text/plain": [
       "           set1                        set2                 difference  \\\n",
       "        From_r0   From_r1   From_r2 From_r0 From_r1 From_r2    From_r0   \n",
       "To_r0  0.744434  0.005789 -0.000004    0.75    0.00    0.00  -0.005566   \n",
       "To_r1  0.164515  0.733437  0.081715    0.20    0.75    0.10  -0.035485   \n",
       "To_r2  0.079357  0.209877  0.793387    0.10    0.20    0.75  -0.020643   \n",
       "\n",
       "                           \n",
       "        From_r1   From_r2  \n",
       "To_r0  0.005789 -0.000004  \n",
       "To_r1 -0.016563 -0.018285  \n",
       "To_r2  0.009877  0.043387  "
      ]
     },
     "metadata": {},
     "output_type": "display_data"
    },
    {
     "name": "stdout",
     "output_type": "stream",
     "text": [
      "Wxxu_s0\n"
     ]
    },
    {
     "data": {
      "text/html": [
       "<div>\n",
       "<table border=\"1\" class=\"dataframe\">\n",
       "  <thead>\n",
       "    <tr>\n",
       "      <th></th>\n",
       "      <th colspan=\"3\" halign=\"left\">set1</th>\n",
       "      <th colspan=\"3\" halign=\"left\">set2</th>\n",
       "      <th colspan=\"3\" halign=\"left\">difference</th>\n",
       "    </tr>\n",
       "    <tr>\n",
       "      <th></th>\n",
       "      <th>From_r0</th>\n",
       "      <th>From_r1</th>\n",
       "      <th>From_r2</th>\n",
       "      <th>From_r0</th>\n",
       "      <th>From_r1</th>\n",
       "      <th>From_r2</th>\n",
       "      <th>From_r0</th>\n",
       "      <th>From_r1</th>\n",
       "      <th>From_r2</th>\n",
       "    </tr>\n",
       "  </thead>\n",
       "  <tbody>\n",
       "    <tr>\n",
       "      <th>To_r0</th>\n",
       "      <td>0.000004</td>\n",
       "      <td>0.000004</td>\n",
       "      <td>-0.000004</td>\n",
       "      <td>0.0</td>\n",
       "      <td>0.0</td>\n",
       "      <td>0.0</td>\n",
       "      <td>0.000004</td>\n",
       "      <td>0.000004</td>\n",
       "      <td>-0.000004</td>\n",
       "    </tr>\n",
       "    <tr>\n",
       "      <th>To_r1</th>\n",
       "      <td>-0.000038</td>\n",
       "      <td>0.000008</td>\n",
       "      <td>0.000001</td>\n",
       "      <td>0.0</td>\n",
       "      <td>0.0</td>\n",
       "      <td>0.0</td>\n",
       "      <td>-0.000038</td>\n",
       "      <td>0.000008</td>\n",
       "      <td>0.000001</td>\n",
       "    </tr>\n",
       "    <tr>\n",
       "      <th>To_r2</th>\n",
       "      <td>0.000001</td>\n",
       "      <td>-0.000002</td>\n",
       "      <td>-0.091910</td>\n",
       "      <td>0.0</td>\n",
       "      <td>0.0</td>\n",
       "      <td>-0.1</td>\n",
       "      <td>0.000001</td>\n",
       "      <td>-0.000002</td>\n",
       "      <td>0.008090</td>\n",
       "    </tr>\n",
       "  </tbody>\n",
       "</table>\n",
       "</div>"
      ],
      "text/plain": [
       "           set1                        set2                 difference  \\\n",
       "        From_r0   From_r1   From_r2 From_r0 From_r1 From_r2    From_r0   \n",
       "To_r0  0.000004  0.000004 -0.000004     0.0     0.0     0.0   0.000004   \n",
       "To_r1 -0.000038  0.000008  0.000001     0.0     0.0     0.0  -0.000038   \n",
       "To_r2  0.000001 -0.000002 -0.091910     0.0     0.0    -0.1   0.000001   \n",
       "\n",
       "                           \n",
       "        From_r1   From_r2  \n",
       "To_r0  0.000004 -0.000004  \n",
       "To_r1  0.000008  0.000001  \n",
       "To_r2 -0.000002  0.008090  "
      ]
     },
     "metadata": {},
     "output_type": "display_data"
    },
    {
     "name": "stdout",
     "output_type": "stream",
     "text": [
      "Wxu\n"
     ]
    },
    {
     "data": {
      "text/html": [
       "<div>\n",
       "<table border=\"1\" class=\"dataframe\">\n",
       "  <thead>\n",
       "    <tr>\n",
       "      <th></th>\n",
       "      <th>set1</th>\n",
       "      <th>set2</th>\n",
       "      <th>difference</th>\n",
       "    </tr>\n",
       "    <tr>\n",
       "      <th></th>\n",
       "      <th>stimuli_0</th>\n",
       "      <th>stimuli_0</th>\n",
       "      <th>stimuli_0</th>\n",
       "    </tr>\n",
       "  </thead>\n",
       "  <tbody>\n",
       "    <tr>\n",
       "      <th>To_r0</th>\n",
       "      <td>0.109019</td>\n",
       "      <td>0.1</td>\n",
       "      <td>0.009019</td>\n",
       "    </tr>\n",
       "    <tr>\n",
       "      <th>To_r1</th>\n",
       "      <td>-0.005727</td>\n",
       "      <td>0.0</td>\n",
       "      <td>-0.005727</td>\n",
       "    </tr>\n",
       "    <tr>\n",
       "      <th>To_r2</th>\n",
       "      <td>-0.000068</td>\n",
       "      <td>0.0</td>\n",
       "      <td>-0.000068</td>\n",
       "    </tr>\n",
       "  </tbody>\n",
       "</table>\n",
       "</div>"
      ],
      "text/plain": [
       "           set1      set2 difference\n",
       "      stimuli_0 stimuli_0  stimuli_0\n",
       "To_r0  0.109019       0.1   0.009019\n",
       "To_r1 -0.005727       0.0  -0.005727\n",
       "To_r2 -0.000068       0.0  -0.000068"
      ]
     },
     "metadata": {},
     "output_type": "display_data"
    },
    {
     "name": "stdout",
     "output_type": "stream",
     "text": [
      "hemodynamic_parameters\n"
     ]
    },
    {
     "data": {
      "text/html": [
       "<div>\n",
       "<table border=\"1\" class=\"dataframe\">\n",
       "  <thead>\n",
       "    <tr style=\"text-align: right;\">\n",
       "      <th></th>\n",
       "      <th></th>\n",
       "      <th>alpha</th>\n",
       "      <th>E0</th>\n",
       "      <th>k</th>\n",
       "      <th>gamma</th>\n",
       "      <th>tao</th>\n",
       "      <th>epsilon</th>\n",
       "      <th>V0</th>\n",
       "      <th>TE</th>\n",
       "      <th>r0</th>\n",
       "      <th>theta0</th>\n",
       "    </tr>\n",
       "  </thead>\n",
       "  <tbody>\n",
       "    <tr>\n",
       "      <th rowspan=\"3\" valign=\"top\">set1</th>\n",
       "      <th>region_0</th>\n",
       "      <td>0.320728</td>\n",
       "      <td>0.323513</td>\n",
       "      <td>0.646672</td>\n",
       "      <td>0.410640</td>\n",
       "      <td>0.929176</td>\n",
       "      <td>4.000000e-01</td>\n",
       "      <td>100.0</td>\n",
       "      <td>3.000000e-02</td>\n",
       "      <td>25.0</td>\n",
       "      <td>4.030000e+01</td>\n",
       "    </tr>\n",
       "    <tr>\n",
       "      <th>region_1</th>\n",
       "      <td>0.296247</td>\n",
       "      <td>0.375357</td>\n",
       "      <td>0.647624</td>\n",
       "      <td>0.408036</td>\n",
       "      <td>0.960233</td>\n",
       "      <td>4.000000e-01</td>\n",
       "      <td>100.0</td>\n",
       "      <td>3.000000e-02</td>\n",
       "      <td>25.0</td>\n",
       "      <td>4.030000e+01</td>\n",
       "    </tr>\n",
       "    <tr>\n",
       "      <th>region_2</th>\n",
       "      <td>0.299447</td>\n",
       "      <td>0.351756</td>\n",
       "      <td>0.640440</td>\n",
       "      <td>0.410429</td>\n",
       "      <td>0.894106</td>\n",
       "      <td>4.000000e-01</td>\n",
       "      <td>100.0</td>\n",
       "      <td>3.000000e-02</td>\n",
       "      <td>25.0</td>\n",
       "      <td>4.030000e+01</td>\n",
       "    </tr>\n",
       "    <tr>\n",
       "      <th rowspan=\"3\" valign=\"top\">set2</th>\n",
       "      <th>region_0</th>\n",
       "      <td>0.312815</td>\n",
       "      <td>0.332341</td>\n",
       "      <td>0.661574</td>\n",
       "      <td>0.405569</td>\n",
       "      <td>0.903315</td>\n",
       "      <td>4.000000e-01</td>\n",
       "      <td>100.0</td>\n",
       "      <td>3.000000e-02</td>\n",
       "      <td>25.0</td>\n",
       "      <td>4.030000e+01</td>\n",
       "    </tr>\n",
       "    <tr>\n",
       "      <th>region_1</th>\n",
       "      <td>0.333587</td>\n",
       "      <td>0.352575</td>\n",
       "      <td>0.599501</td>\n",
       "      <td>0.399961</td>\n",
       "      <td>1.058190</td>\n",
       "      <td>4.000000e-01</td>\n",
       "      <td>100.0</td>\n",
       "      <td>3.000000e-02</td>\n",
       "      <td>25.0</td>\n",
       "      <td>4.030000e+01</td>\n",
       "    </tr>\n",
       "    <tr>\n",
       "      <th>region_2</th>\n",
       "      <td>0.307655</td>\n",
       "      <td>0.360478</td>\n",
       "      <td>0.631345</td>\n",
       "      <td>0.412528</td>\n",
       "      <td>0.900510</td>\n",
       "      <td>4.000000e-01</td>\n",
       "      <td>100.0</td>\n",
       "      <td>3.000000e-02</td>\n",
       "      <td>25.0</td>\n",
       "      <td>4.030000e+01</td>\n",
       "    </tr>\n",
       "    <tr>\n",
       "      <th rowspan=\"3\" valign=\"top\">difference</th>\n",
       "      <th>region_0</th>\n",
       "      <td>0.007913</td>\n",
       "      <td>-0.008829</td>\n",
       "      <td>-0.014902</td>\n",
       "      <td>0.005072</td>\n",
       "      <td>0.025861</td>\n",
       "      <td>5.960464e-09</td>\n",
       "      <td>0.0</td>\n",
       "      <td>-6.705523e-10</td>\n",
       "      <td>0.0</td>\n",
       "      <td>-7.629395e-07</td>\n",
       "    </tr>\n",
       "    <tr>\n",
       "      <th>region_1</th>\n",
       "      <td>-0.037340</td>\n",
       "      <td>0.022782</td>\n",
       "      <td>0.048123</td>\n",
       "      <td>0.008074</td>\n",
       "      <td>-0.097956</td>\n",
       "      <td>5.960464e-09</td>\n",
       "      <td>0.0</td>\n",
       "      <td>-6.705523e-10</td>\n",
       "      <td>0.0</td>\n",
       "      <td>-7.629395e-07</td>\n",
       "    </tr>\n",
       "    <tr>\n",
       "      <th>region_2</th>\n",
       "      <td>-0.008207</td>\n",
       "      <td>-0.008722</td>\n",
       "      <td>0.009094</td>\n",
       "      <td>-0.002099</td>\n",
       "      <td>-0.006403</td>\n",
       "      <td>5.960464e-09</td>\n",
       "      <td>0.0</td>\n",
       "      <td>-6.705523e-10</td>\n",
       "      <td>0.0</td>\n",
       "      <td>-7.629395e-07</td>\n",
       "    </tr>\n",
       "  </tbody>\n",
       "</table>\n",
       "</div>"
      ],
      "text/plain": [
       "                        alpha        E0         k     gamma       tao  \\\n",
       "set1       region_0  0.320728  0.323513  0.646672  0.410640  0.929176   \n",
       "           region_1  0.296247  0.375357  0.647624  0.408036  0.960233   \n",
       "           region_2  0.299447  0.351756  0.640440  0.410429  0.894106   \n",
       "set2       region_0  0.312815  0.332341  0.661574  0.405569  0.903315   \n",
       "           region_1  0.333587  0.352575  0.599501  0.399961  1.058190   \n",
       "           region_2  0.307655  0.360478  0.631345  0.412528  0.900510   \n",
       "difference region_0  0.007913 -0.008829 -0.014902  0.005072  0.025861   \n",
       "           region_1 -0.037340  0.022782  0.048123  0.008074 -0.097956   \n",
       "           region_2 -0.008207 -0.008722  0.009094 -0.002099 -0.006403   \n",
       "\n",
       "                          epsilon     V0            TE    r0        theta0  \n",
       "set1       region_0  4.000000e-01  100.0  3.000000e-02  25.0  4.030000e+01  \n",
       "           region_1  4.000000e-01  100.0  3.000000e-02  25.0  4.030000e+01  \n",
       "           region_2  4.000000e-01  100.0  3.000000e-02  25.0  4.030000e+01  \n",
       "set2       region_0  4.000000e-01  100.0  3.000000e-02  25.0  4.030000e+01  \n",
       "           region_1  4.000000e-01  100.0  3.000000e-02  25.0  4.030000e+01  \n",
       "           region_2  4.000000e-01  100.0  3.000000e-02  25.0  4.030000e+01  \n",
       "difference region_0  5.960464e-09    0.0 -6.705523e-10   0.0 -7.629395e-07  \n",
       "           region_1  5.960464e-09    0.0 -6.705523e-10   0.0 -7.629395e-07  \n",
       "           region_2  5.960464e-09    0.0 -6.705523e-10   0.0 -7.629395e-07  "
      ]
     },
     "metadata": {},
     "output_type": "display_data"
    }
   ],
   "source": [
    "importlib.reload(DCM_RNN)\n",
    "util=DCM_RNN.utilities()\n",
    "parameter_trained=util.show_all_variable_value(dr,isess,visFlag=False)\n",
    "tmp=util.compare_parameters(parameter_trained,parameter_true,visFlag=True,parameter_list=['Wxx','Wxxu_s0','Wxu','hemodynamic_parameters'])"
   ]
  },
  {
   "cell_type": "code",
   "execution_count": 121,
   "metadata": {
    "collapsed": false
   },
   "outputs": [
    {
     "data": {
      "text/plain": [
       "0.038729833462074169"
      ]
     },
     "execution_count": 121,
     "metadata": {},
     "output_type": "execute_result"
    }
   ],
   "source": [
    "np.sqrt(0.0015)"
   ]
  },
  {
   "cell_type": "code",
   "execution_count": null,
   "metadata": {
    "collapsed": true
   },
   "outputs": [],
   "source": []
  }
 ],
 "metadata": {
  "anaconda-cloud": {},
  "kernelspec": {
   "display_name": "Python [tensorFlow]",
   "language": "python",
   "name": "Python [tensorFlow]"
  },
  "language_info": {
   "codemirror_mode": {
    "name": "ipython",
    "version": 3
   },
   "file_extension": ".py",
   "mimetype": "text/x-python",
   "name": "python",
   "nbconvert_exporter": "python",
   "pygments_lexer": "ipython3",
   "version": "3.5.2"
  }
 },
 "nbformat": 4,
 "nbformat_minor": 1
}
